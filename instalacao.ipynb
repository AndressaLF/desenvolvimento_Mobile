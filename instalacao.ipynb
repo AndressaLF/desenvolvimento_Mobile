{
 "cells": [
  {
   "attachments": {},
   "cell_type": "markdown",
   "metadata": {},
   "source": [
    "# Criação de um projeto"
   ]
  },
  {
   "attachments": {},
   "cell_type": "markdown",
   "metadata": {},
   "source": [
    "### 1. Instale o Node.js no seu computador\n",
    "\n",
    "Pode baixar o instalador a partir do site oficial: https://nodejs.org/en/\n",
    "\n",
    "### 2. Instale o Angular CLI globalmente\n",
    "Abra um terminal ou prompt de comando e instale o Angular CLI globalmente, executando o seguinte comando:\n",
    "\n",
    "`npm install -g @angular/cli`\n",
    "\n",
    "### 3. Instale o Ionic globalmente\n",
    "\n",
    "`npm install -g @ionic/cli`\n",
    "\n",
    "### 4. Crie a pasta do projeto e acesse\n",
    "\n",
    "`mkdir meu-projeto && cd meu-projeto`\n",
    "\n",
    "### 5. Crie um ambiente virtual para o seu projeto\n",
    "`npm init -y`\n",
    "\n",
    "### 6. Instale as dependências do projeto, incluindo o Angular e o Ionic\n",
    "`npm install @angular/core @ionic/angular`\n",
    "\n",
    "\n",
    "### 7. Para iniciar um novo projeto Ionic com o Angular\n",
    "\n",
    "`ionic start meu-app blank --type=angular`\n",
    "\n",
    "### 8. Para rodar o aplicativo\n",
    "`ionic serve`\n"
   ]
  }
 ],
 "metadata": {
  "kernelspec": {
   "display_name": "Python 3",
   "language": "python",
   "name": "python3"
  },
  "language_info": {
   "name": "python",
   "version": "3.9.6"
  },
  "orig_nbformat": 4,
  "vscode": {
   "interpreter": {
    "hash": "11938c6bc6919ae2720b4d5011047913343b08a43b18698fd82dedb0d4417594"
   }
  }
 },
 "nbformat": 4,
 "nbformat_minor": 2
}
